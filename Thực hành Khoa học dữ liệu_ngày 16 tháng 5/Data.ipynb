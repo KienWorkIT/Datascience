{
 "cells": [
  {
   "cell_type": "code",
   "execution_count": 21,
   "metadata": {},
   "outputs": [],
   "source": [
    "import pandas as pd\n",
    "import numpy as np"
   ]
  },
  {
   "cell_type": "code",
   "execution_count": 22,
   "metadata": {},
   "outputs": [
    {
     "data": {
      "text/html": [
       "<div>\n",
       "<style scoped>\n",
       "    .dataframe tbody tr th:only-of-type {\n",
       "        vertical-align: middle;\n",
       "    }\n",
       "\n",
       "    .dataframe tbody tr th {\n",
       "        vertical-align: top;\n",
       "    }\n",
       "\n",
       "    .dataframe thead th {\n",
       "        text-align: right;\n",
       "    }\n",
       "</style>\n",
       "<table border=\"1\" class=\"dataframe\">\n",
       "  <thead>\n",
       "    <tr style=\"text-align: right;\">\n",
       "      <th></th>\n",
       "      <th>STT</th>\n",
       "      <th>Tên sản phẩm</th>\n",
       "      <th>Đơn vị tính</th>\n",
       "      <th>Số Lượng</th>\n",
       "      <th>Giá Nhập</th>\n",
       "      <th>Giá Bán Sỉ</th>\n",
       "      <th>Giá Bán Lẻ</th>\n",
       "      <th>Thành Tiền</th>\n",
       "      <th>Unnamed: 8</th>\n",
       "      <th>24,97,000</th>\n",
       "      <th>53,45,000</th>\n",
       "      <th>Unnamed: 11</th>\n",
       "      <th>Unnamed: 12</th>\n",
       "      <th>Unnamed: 13</th>\n",
       "      <th>Unnamed: 14</th>\n",
       "    </tr>\n",
       "  </thead>\n",
       "  <tbody>\n",
       "    <tr>\n",
       "      <th>0</th>\n",
       "      <td>NaN</td>\n",
       "      <td>NaN</td>\n",
       "      <td>NaN</td>\n",
       "      <td>NaN</td>\n",
       "      <td>NaN</td>\n",
       "      <td>NaN</td>\n",
       "      <td>NaN</td>\n",
       "      <td>NaN</td>\n",
       "      <td>NaN</td>\n",
       "      <td>NaN</td>\n",
       "      <td>NaN</td>\n",
       "      <td>NaN</td>\n",
       "      <td>NaN</td>\n",
       "      <td>NaN</td>\n",
       "      <td>NaN</td>\n",
       "    </tr>\n",
       "    <tr>\n",
       "      <th>1</th>\n",
       "      <td>1.0</td>\n",
       "      <td>Máy Phun Sương (Hồng)</td>\n",
       "      <td>Cái</td>\n",
       "      <td>5.0</td>\n",
       "      <td>31,000</td>\n",
       "      <td>37,000</td>\n",
       "      <td>65,000</td>\n",
       "      <td>1,55,000</td>\n",
       "      <td>NaN</td>\n",
       "      <td>Tổng Tiền Lãi</td>\n",
       "      <td>Tổng Tiền</td>\n",
       "      <td>NaN</td>\n",
       "      <td>NaN</td>\n",
       "      <td>NaN</td>\n",
       "      <td>NaN</td>\n",
       "    </tr>\n",
       "  </tbody>\n",
       "</table>\n",
       "</div>"
      ],
      "text/plain": [
       "   STT           Tên sản phẩm Đơn vị tính  Số Lượng Giá Nhập Giá Bán Sỉ   \n",
       "0  NaN                    NaN         NaN       NaN      NaN        NaN  \\\n",
       "1  1.0  Máy Phun Sương (Hồng)         Cái       5.0   31,000     37,000   \n",
       "\n",
       "  Giá Bán Lẻ Thành Tiền  Unnamed: 8      24,97,000  53,45,000 Unnamed: 11   \n",
       "0        NaN        NaN         NaN            NaN        NaN         NaN  \\\n",
       "1     65,000   1,55,000         NaN  Tổng Tiền Lãi  Tổng Tiền         NaN   \n",
       "\n",
       "  Unnamed: 12 Unnamed: 13 Unnamed: 14  \n",
       "0         NaN         NaN         NaN  \n",
       "1         NaN         NaN         NaN  "
      ]
     },
     "execution_count": 22,
     "metadata": {},
     "output_type": "execute_result"
    }
   ],
   "source": [
    "data=pd.read_csv(\"C:/users/6/Desktop/DuLieuBanHang.csv\")\n",
    "data.head(2)"
   ]
  },
  {
   "cell_type": "code",
   "execution_count": 23,
   "metadata": {},
   "outputs": [
    {
     "data": {
      "text/plain": [
       "Index(['STT', 'Tên sản phẩm', 'Đơn vị tính', 'Số Lượng', 'Giá Nhập',\n",
       "       'Giá Bán Sỉ', 'Giá Bán Lẻ', 'Thành Tiền', 'Unnamed: 8', '24,97,000',\n",
       "       '53,45,000', 'Unnamed: 11', 'Unnamed: 12', 'Unnamed: 13',\n",
       "       'Unnamed: 14'],\n",
       "      dtype='object')"
      ]
     },
     "execution_count": 23,
     "metadata": {},
     "output_type": "execute_result"
    }
   ],
   "source": [
    "data.columns"
   ]
  }
 ],
 "metadata": {
  "kernelspec": {
   "display_name": "Python 3",
   "language": "python",
   "name": "python3"
  },
  "language_info": {
   "codemirror_mode": {
    "name": "ipython",
    "version": 3
   },
   "file_extension": ".py",
   "mimetype": "text/x-python",
   "name": "python",
   "nbconvert_exporter": "python",
   "pygments_lexer": "ipython3",
   "version": "3.11.2"
  },
  "orig_nbformat": 4
 },
 "nbformat": 4,
 "nbformat_minor": 2
}
